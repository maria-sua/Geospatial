{
 "cells": [
  {
   "cell_type": "code",
   "execution_count": 21,
   "id": "d12a2d51",
   "metadata": {},
   "outputs": [],
   "source": [
    "import cdsapi\n",
    "import netCDF4\n",
    "from netCDF4 import Dataset\n",
    "import numpy as np\n",
    "import matplotlib.pyplot as plt\n",
    "import os\n",
    "import pandas as pd"
   ]
  },
  {
   "cell_type": "code",
   "execution_count": 22,
   "id": "3081c6ae",
   "metadata": {},
   "outputs": [
    {
     "name": "stderr",
     "output_type": "stream",
     "text": [
      "2022-05-02 18:00:29,641 INFO Welcome to the CDS\n",
      "2022-05-02 18:00:29,644 INFO Sending request to https://cds.climate.copernicus.eu/api/v2/resources/projections-cmip6\n",
      "2022-05-02 18:00:29,878 INFO Request is queued\n",
      "2022-05-02 18:00:30,952 INFO Request is running\n",
      "2022-05-02 18:00:38,332 INFO Request is completed\n",
      "2022-05-02 18:00:38,334 INFO Downloading https://download-0008-clone.copernicus-climate.eu/cache-compute-0008/cache/data2/adaptor.esgf_wps.retrieve-1651510833.4624848-8482-12-6ee7c215-1157-40ae-8fe2-b2999c1ecf31.zip to download.zip (184.7K)\n",
      "2022-05-02 18:00:38,963 INFO Download rate 295K/s                                                                      \n"
     ]
    },
    {
     "data": {
      "text/plain": [
       "Result(content_length=189170,content_type=application/zip,location=https://download-0008-clone.copernicus-climate.eu/cache-compute-0008/cache/data2/adaptor.esgf_wps.retrieve-1651510833.4624848-8482-12-6ee7c215-1157-40ae-8fe2-b2999c1ecf31.zip)"
      ]
     },
     "execution_count": 22,
     "metadata": {},
     "output_type": "execute_result"
    }
   ],
   "source": [
    "#Retrieve data with the CDS API and store as a netCDF4 file in the working directory.\n",
    "# CMIP6 climate projections (https://cds.climate.copernicus.eu/cdsapp#!/dataset/projections-cmip6?tab=overview)\n",
    "\n",
    "c = cdsapi.Client()\n",
    "\n",
    "c.retrieve(\n",
    "    'projections-cmip6',\n",
    "    {\n",
    "        'format': 'zip',\n",
    "        'date': '2022-04-10/2022-05-15',\n",
    "        'temporal_resolution': 'daily',\n",
    "        'experiment': 'ssp1_1_9',\n",
    "        'level': 'single_levels',\n",
    "        'variable': 'daily_maximum_near_surface_air_temperature',\n",
    "        'model': 'ec_earth3',\n",
    "        'area': [\n",
    "            2, 38, 1,\n",
    "            39,\n",
    "        ],\n",
    "    },\n",
    "    'download.zip')"
   ]
  },
  {
   "cell_type": "code",
   "execution_count": 23,
   "id": "fab905d7",
   "metadata": {
    "scrolled": true
   },
   "outputs": [],
   "source": [
    "# Open netCDF4 file\n",
    "f = netCDF4.Dataset('C:/Users/marsu/Downloads/tasmax_day_EC-Earth3_ssp119_r4i1p1f1_gr_20220410-20220515_v20200425.nc')\n",
    " \n",
    "# Extract variable\n",
    "temp = f.variables['tasmax']\n",
    " \n",
    "# Get dimensions: time, latitude, longitude\n",
    "time_dim, lat_dim, lon_dim = temp.get_dims()\n",
    "time_var = f.variables[time_dim.name]\n",
    "times = num2date(time_var[:], time_var.units)\n",
    "latitudes = f.variables[lat_dim.name][:]\n",
    "longitudes = f.variables[lon_dim.name][:]\n",
    " \n",
    "output_dir = 'E:/María/GIS_DataManag_courses/Geospatial/DegreeDays_data/'"
   ]
  },
  {
   "cell_type": "code",
   "execution_count": 25,
   "id": "f26e9f3a",
   "metadata": {},
   "outputs": [
    {
     "name": "stdout",
     "output_type": "stream",
     "text": [
      "Writing data in tabular form to E:/María/GIS_DataManag_courses/Geospatial/DegreeDays_data/table.csv\n",
      "Done\n"
     ]
    }
   ],
   "source": [
    "#Write data as a csv table with 4 columns: time, latitude, longitude, temperature\n",
    "\n",
    "filename = os.path.join(output_dir, 'table.csv')\n",
    "print(f'Writing data in tabular form to {filename}')\n",
    "      \n",
    "times_grid, latitudes_grid, longitudes_grid = [\n",
    "    x.flatten() for x in np.meshgrid(times, latitudes, longitudes, indexing='ij')]\n",
    "df = pd.DataFrame({\n",
    "    'time': [t.isoformat() for t in times_grid],\n",
    "    'latitude': latitudes_grid,\n",
    "    'longitude': longitudes_grid,\n",
    "    'temperature': temp[:].flatten()})  #to convert N dimensional array to 1D\n",
    "df.to_csv(filename, index=False)\n",
    "\n",
    "print('Done')"
   ]
  },
  {
   "cell_type": "code",
   "execution_count": 37,
   "id": "440301f6",
   "metadata": {},
   "outputs": [
    {
     "data": {
      "text/html": [
       "<div>\n",
       "<style scoped>\n",
       "    .dataframe tbody tr th:only-of-type {\n",
       "        vertical-align: middle;\n",
       "    }\n",
       "\n",
       "    .dataframe tbody tr th {\n",
       "        vertical-align: top;\n",
       "    }\n",
       "\n",
       "    .dataframe thead th {\n",
       "        text-align: right;\n",
       "    }\n",
       "</style>\n",
       "<table border=\"1\" class=\"dataframe\">\n",
       "  <thead>\n",
       "    <tr style=\"text-align: right;\">\n",
       "      <th></th>\n",
       "      <th>time</th>\n",
       "      <th>latitude</th>\n",
       "      <th>longitude</th>\n",
       "      <th>temperature</th>\n",
       "      <th>temperature_C</th>\n",
       "      <th>DegreeDays</th>\n",
       "      <th>DegreeDays_ac</th>\n",
       "    </tr>\n",
       "  </thead>\n",
       "  <tbody>\n",
       "    <tr>\n",
       "      <th>0</th>\n",
       "      <td>2022-04-10T12:00:00</td>\n",
       "      <td>1.052630</td>\n",
       "      <td>38.671875</td>\n",
       "      <td>311.56802</td>\n",
       "      <td>38</td>\n",
       "      <td>22.8</td>\n",
       "      <td>22.8</td>\n",
       "    </tr>\n",
       "    <tr>\n",
       "      <th>1</th>\n",
       "      <td>2022-04-10T12:00:00</td>\n",
       "      <td>1.754383</td>\n",
       "      <td>38.671875</td>\n",
       "      <td>311.90005</td>\n",
       "      <td>38</td>\n",
       "      <td>22.8</td>\n",
       "      <td>45.6</td>\n",
       "    </tr>\n",
       "    <tr>\n",
       "      <th>2</th>\n",
       "      <td>2022-04-11T12:00:00</td>\n",
       "      <td>1.052630</td>\n",
       "      <td>38.671875</td>\n",
       "      <td>311.13495</td>\n",
       "      <td>38</td>\n",
       "      <td>22.8</td>\n",
       "      <td>68.4</td>\n",
       "    </tr>\n",
       "    <tr>\n",
       "      <th>3</th>\n",
       "      <td>2022-04-11T12:00:00</td>\n",
       "      <td>1.754383</td>\n",
       "      <td>38.671875</td>\n",
       "      <td>311.61150</td>\n",
       "      <td>38</td>\n",
       "      <td>22.8</td>\n",
       "      <td>91.2</td>\n",
       "    </tr>\n",
       "    <tr>\n",
       "      <th>4</th>\n",
       "      <td>2022-04-12T12:00:00</td>\n",
       "      <td>1.052630</td>\n",
       "      <td>38.671875</td>\n",
       "      <td>309.19160</td>\n",
       "      <td>36</td>\n",
       "      <td>22.8</td>\n",
       "      <td>114.0</td>\n",
       "    </tr>\n",
       "    <tr>\n",
       "      <th>...</th>\n",
       "      <td>...</td>\n",
       "      <td>...</td>\n",
       "      <td>...</td>\n",
       "      <td>...</td>\n",
       "      <td>...</td>\n",
       "      <td>...</td>\n",
       "      <td>...</td>\n",
       "    </tr>\n",
       "    <tr>\n",
       "      <th>67</th>\n",
       "      <td>2022-05-13T12:00:00</td>\n",
       "      <td>1.754383</td>\n",
       "      <td>38.671875</td>\n",
       "      <td>310.44614</td>\n",
       "      <td>37</td>\n",
       "      <td>22.8</td>\n",
       "      <td>1547.9</td>\n",
       "    </tr>\n",
       "    <tr>\n",
       "      <th>68</th>\n",
       "      <td>2022-05-14T12:00:00</td>\n",
       "      <td>1.052630</td>\n",
       "      <td>38.671875</td>\n",
       "      <td>311.06810</td>\n",
       "      <td>38</td>\n",
       "      <td>22.8</td>\n",
       "      <td>1570.7</td>\n",
       "    </tr>\n",
       "    <tr>\n",
       "      <th>69</th>\n",
       "      <td>2022-05-14T12:00:00</td>\n",
       "      <td>1.754383</td>\n",
       "      <td>38.671875</td>\n",
       "      <td>311.03296</td>\n",
       "      <td>38</td>\n",
       "      <td>22.8</td>\n",
       "      <td>1593.5</td>\n",
       "    </tr>\n",
       "    <tr>\n",
       "      <th>70</th>\n",
       "      <td>2022-05-15T12:00:00</td>\n",
       "      <td>1.052630</td>\n",
       "      <td>38.671875</td>\n",
       "      <td>310.90027</td>\n",
       "      <td>37</td>\n",
       "      <td>22.8</td>\n",
       "      <td>1616.3</td>\n",
       "    </tr>\n",
       "    <tr>\n",
       "      <th>71</th>\n",
       "      <td>2022-05-15T12:00:00</td>\n",
       "      <td>1.754383</td>\n",
       "      <td>38.671875</td>\n",
       "      <td>310.71863</td>\n",
       "      <td>37</td>\n",
       "      <td>22.8</td>\n",
       "      <td>1639.1</td>\n",
       "    </tr>\n",
       "  </tbody>\n",
       "</table>\n",
       "<p>72 rows × 7 columns</p>\n",
       "</div>"
      ],
      "text/plain": [
       "                   time  latitude  longitude  temperature  temperature_C  \\\n",
       "0   2022-04-10T12:00:00  1.052630  38.671875    311.56802             38   \n",
       "1   2022-04-10T12:00:00  1.754383  38.671875    311.90005             38   \n",
       "2   2022-04-11T12:00:00  1.052630  38.671875    311.13495             38   \n",
       "3   2022-04-11T12:00:00  1.754383  38.671875    311.61150             38   \n",
       "4   2022-04-12T12:00:00  1.052630  38.671875    309.19160             36   \n",
       "..                  ...       ...        ...          ...            ...   \n",
       "67  2022-05-13T12:00:00  1.754383  38.671875    310.44614             37   \n",
       "68  2022-05-14T12:00:00  1.052630  38.671875    311.06810             38   \n",
       "69  2022-05-14T12:00:00  1.754383  38.671875    311.03296             38   \n",
       "70  2022-05-15T12:00:00  1.052630  38.671875    310.90027             37   \n",
       "71  2022-05-15T12:00:00  1.754383  38.671875    310.71863             37   \n",
       "\n",
       "    DegreeDays  DegreeDays_ac  \n",
       "0         22.8           22.8  \n",
       "1         22.8           45.6  \n",
       "2         22.8           68.4  \n",
       "3         22.8           91.2  \n",
       "4         22.8          114.0  \n",
       "..         ...            ...  \n",
       "67        22.8         1547.9  \n",
       "68        22.8         1570.7  \n",
       "69        22.8         1593.5  \n",
       "70        22.8         1616.3  \n",
       "71        22.8         1639.1  \n",
       "\n",
       "[72 rows x 7 columns]"
      ]
     },
     "execution_count": 37,
     "metadata": {},
     "output_type": "execute_result"
    }
   ],
   "source": [
    "df = pd.read_csv('E:/María/GIS_DataManag_courses/Geospatial/DegreeDays_data/table.csv')\n",
    "\n",
    "max_t = 35.5\n",
    "min_t = 12.7\n",
    "temperature_C = []\n",
    "DegreeDays = []\n",
    "DegreeDays_ac = []\n",
    "total = 0\n",
    "\n",
    "#Convert Kelvin units to Celsius\n",
    "for i in df.temperature:\n",
    "    temp_C = int(i - 273)\n",
    "    temperature_C.append(temp_C)\n",
    "\n",
    "#Calculate DegreeDays\n",
    "for i in temperature_C:\n",
    "    if i < min_t:\n",
    "        DD = 0\n",
    "    elif min_t < i < max_t:\n",
    "        DD = i - min_t\n",
    "    elif i > max_t:\n",
    "        DD = max_t - min_t\n",
    "    DegreeDays.append(DD)\n",
    "\n",
    "#Calculate DegreeDays accumulated\n",
    "for i in DegreeDays:\n",
    "    total = total + i\n",
    "    DegreeDays_ac.append(total)\n",
    "    \n",
    "#Adding new columns to csv\n",
    "df['temperature_C'] = temperature_C\n",
    "df['DegreeDays'] = DegreeDays\n",
    "df['DegreeDays_ac'] = DegreeDays_ac\n",
    "df.to_csv('E:/María/GIS_DataManag_courses/Geospatial/DegreeDays_data/table.csv', index= False)\n",
    "data = pd.DataFrame(df)\n",
    "data"
   ]
  },
  {
   "cell_type": "code",
   "execution_count": 12,
   "id": "776f43cc",
   "metadata": {},
   "outputs": [
    {
     "name": "stdout",
     "output_type": "stream",
     "text": [
      "136 547\n"
     ]
    }
   ],
   "source": [
    "#Identify DegreeDay at 150ºC and 550ºC\n",
    "\n",
    "for i in df.DegreeDays_ac:\n",
    "    if i <= 150:\n",
    "        final1 = int(i)\n",
    "    if i <= 550:\n",
    "        final2 = int(i)\n",
    "    \n",
    "print(final1, final2)\n"
   ]
  },
  {
   "cell_type": "code",
   "execution_count": 17,
   "id": "a0cd94bf",
   "metadata": {},
   "outputs": [
    {
     "name": "stderr",
     "output_type": "stream",
     "text": [
      "2022-04-28 10:03:26,813 INFO Using categorical units to plot a list of strings that are all parsable as floats or dates. If these strings should be plotted as numbers, cast to the appropriate data type before plotting.\n",
      "2022-04-28 10:03:26,818 INFO Using categorical units to plot a list of strings that are all parsable as floats or dates. If these strings should be plotted as numbers, cast to the appropriate data type before plotting.\n"
     ]
    },
    {
     "data": {
      "image/png": "[encoded data removed]",
      "text/plain": [
       "<Figure size 1440x432 with 2 Axes>"
      ]
     },
     "metadata": {
      "needs_background": "light"
     },
     "output_type": "display_data"
    }
   ],
   "source": [
    "# Create plot to represent Degree Days\n",
    "fig, ax = plt.subplots()\n",
    "plt.bar(df['time'],df['DegreeDays_ac'])\n",
    "plt.rcParams[\"figure.figsize\"] = (20,6)\n",
    "\n",
    "# Set up axis: 'x' and 'y'\n",
    "plt.title('Degree Day Accumulation', loc = \"center\", fontdict = {'fontsize':14, 'fontweight':'bold', 'color':'black'})\n",
    "plt.xlabel(\"Time\",fontdict = {'fontsize':14, 'color':'tab:blue'})\n",
    "plt.ylabel(\"Degree Days accumulated\", fontdict = {'fontsize':14, 'color':'tab:blue'})\n",
    "plt.xticks(rotation = 45, ha='right', fontsize= 10)\n",
    "plt.ylim([0,1700])\n",
    "\n",
    "# Adding a second x-axis ('Temperature ºC')\n",
    "ax2 = ax.twinx()\n",
    "#x2 = plt.plot(df['temperature_C'], color='red',label='Temperature')\n",
    "#plt.ylim([10, 35])\n",
    "plt.ylabel(\"Temperature ºC\", fontdict = {'fontsize':14, 'color':'tab:blue'})\n",
    "#plt.yticks(np.linspace(ax2.get_yticks()[0], ax2.get_yticks()[-1], len(ax.get_yticks())))\n",
    "\n",
    "plt.show()"
   ]
  },
  {
   "cell_type": "code",
   "execution_count": null,
   "id": "a3eb6206",
   "metadata": {},
   "outputs": [],
   "source": [
    "Things to sort out:\n",
    "#Add visual map to locate area of interest\n",
    "#reduce num of decimals\n",
    "#simplify code (functions)\n",
    "#Complete DegreeDay Accumulation Plot\n",
    "#Indicate dates on which DegreeDays occur."
   ]
  }
 ],
 "metadata": {
  "kernelspec": {
   "display_name": "Python 3 (ipykernel)",
   "language": "python",
   "name": "python3"
  },
  "language_info": {
   "codemirror_mode": {
    "name": "ipython",
    "version": 3
   },
   "file_extension": ".py",
   "mimetype": "text/x-python",
   "name": "python",
   "nbconvert_exporter": "python",
   "pygments_lexer": "ipython3",
   "version": "3.9.7"
  }
 },
 "nbformat": 4,
 "nbformat_minor": 5
}
