{
 "cells": [
  {
   "cell_type": "code",
   "execution_count": 283,
   "id": "d12a2d51",
   "metadata": {},
   "outputs": [],
   "source": [
    "#import libraries and read csv\n",
    "import pandas as pd\n",
    "import matplotlib.pyplot as plt\n",
    "\n",
    "\n",
    "filename = \"E:/María/GIS_DataManag_courses/Calculate_DegreeDays/TemperatureCelsiusCopy.csv\"\n",
    "df = pd.read_csv(filename)\n"
   ]
  },
  {
   "cell_type": "code",
   "execution_count": 284,
   "id": "f1f73cdc",
   "metadata": {},
   "outputs": [
    {
     "name": "stdout",
     "output_type": "stream",
     "text": [
      "<class 'int'>\n"
     ]
    }
   ],
   "source": [
    "temp_shorten = ['%.0f' % elem for elem in df.temp]\n",
    "temp_shorten_int = list(map(int,temp_shorten)) \n",
    "print(type(temp_shorten_int[0])) \n"
   ]
  },
  {
   "cell_type": "code",
   "execution_count": 285,
   "id": "2e449267",
   "metadata": {},
   "outputs": [],
   "source": [
    "total = 0\n",
    "DD_temp = []\n",
    "    \n",
    "for x in df.temp:\n",
    "    total = total + x\n",
    "    DD_temp.append(total)\n",
    "\n",
    "DDtemp_shorten = ['%.0f' % elem for elem in DDtemp]\n",
    "DDtemp_shorten_int= list(map(int,DDtemp_shorten))\n"
   ]
  },
  {
   "cell_type": "code",
   "execution_count": 286,
   "id": "7d9116fd",
   "metadata": {},
   "outputs": [],
   "source": [
    "#Create new column (\"DDtemp_shorten\") in dataframe\n",
    "\n",
    "dff = df.assign(DDtemp_shorten = [19, 37, 54, 73, 91, 112, 135, 159, 185, 213, 242, 271, 301, 330, 360, 388, 416, 440, 462, 484, 504, 524, 543, 562, 581, 599, 616, 634, 651])\n"
   ]
  },
  {
   "cell_type": "code",
   "execution_count": 289,
   "id": "776f43cc",
   "metadata": {},
   "outputs": [
    {
     "name": "stdout",
     "output_type": "stream",
     "text": [
      "135 543\n"
     ]
    }
   ],
   "source": [
    "#Identify DegreeDay at 150ºC\n",
    "\n",
    "total1 = 0\n",
    "final1 = 0\n",
    "    \n",
    "for i in df.temp:\n",
    "    total1 = total1 + i\n",
    "    if total1 <= 150:\n",
    "        final1 = total1\n",
    "\n",
    "#Identify DegreeDay at 550ºC\n",
    "\n",
    "total2 = 0\n",
    "final2 = 0\n",
    "    \n",
    "for i in df.temp:\n",
    "    total2 = total2 + i\n",
    "    if total2 <= 550:\n",
    "        final2 = total2\n",
    "        \n",
    "print(final1, final2)"
   ]
  },
  {
   "cell_type": "code",
   "execution_count": null,
   "id": "f8fbf6a8",
   "metadata": {},
   "outputs": [],
   "source": []
  }
 ],
 "metadata": {
  "kernelspec": {
   "display_name": "Python 3 (ipykernel)",
   "language": "python",
   "name": "python3"
  },
  "language_info": {
   "codemirror_mode": {
    "name": "ipython",
    "version": 3
   },
   "file_extension": ".py",
   "mimetype": "text/x-python",
   "name": "python",
   "nbconvert_exporter": "python",
   "pygments_lexer": "ipython3",
   "version": "3.9.7"
  }
 },
 "nbformat": 4,
 "nbformat_minor": 5
}
